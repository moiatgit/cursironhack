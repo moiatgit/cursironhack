{
 "cells": [
  {
   "cell_type": "markdown",
   "metadata": {},
   "source": [
    "# Probability"
   ]
  },
  {
   "cell_type": "markdown",
   "metadata": {},
   "source": [
    "## Reto 1\n",
    "Hay una caja con 10 bolas blancas, 12 bolas rojas y 8 bolas negras. Calcula la probabilidad de:\n",
    "* Sacar una bola blanca.\n",
    "* Sacar una bola blanca en la primera extracción y una bola negra en la segunda extracción sin reemplazar la primera.\n",
    "* Sacar una bola blanca en la primera extracción y una bola negra en la segunda extracción reemplazando la primera.\n",
    "* Sacar 3 bolas y que sean todas de diferentes colores."
   ]
  },
  {
   "cell_type": "code",
   "execution_count": 7,
   "metadata": {},
   "outputs": [
    {
     "name": "stdout",
     "output_type": "stream",
     "text": [
      "Sacar una bola blanca 0.3333333333333333\n",
      "Sacar una bola blanca en la primera extracción y una bola negra en la segunda extracción sin reemplazar la primera 0.09195402298850575\n",
      "Sacar una bola blanca en la primera extracción y una bola negra en la segunda extracción reemplazando la primera 0.08888888888888888\n",
      "Sacar 3 bolas y que sean todas de diferentes colores 3.745964820553203e-09\n"
     ]
    }
   ],
   "source": [
    "blancas = 10\n",
    "rojas = 12\n",
    "negras = 8\n",
    "total = blancas + rojas + negras\n",
    "p_blanca = blancas / total\n",
    "print(f\"Sacar una bola blanca {p_blanca}\")\n",
    "\n",
    "p_blanca_negra_sin = p_blanca * negras / (total - 1)   # excepto la blanca\n",
    "print(f\"Sacar una bola blanca en la primera extracción y una bola negra en la segunda extracción sin reemplazar la primera {p_blanca_negra_sin}\")\n",
    "\n",
    "p_blanca_negra_con = p_blanca * negras / total\n",
    "print(f\"Sacar una bola blanca en la primera extracción y una bola negra en la segunda extracción reemplazando la primera {p_blanca_negra_con}\")\n",
    "\n",
    "\n",
    "from itertools import permutations\n",
    "import math\n",
    "def p_ordre(num_primera, num_segona, num_tercera, total):\n",
    "    return num_primera / total * num_segona / (total - 1) * num_tercera / (total - 2)\n",
    "permutacions = permutations([blancas, negras, rojas], 3)  # totes les permutacions dels tres colors\n",
    "p_diferents = math.prod(p_ordre(*permutacio, total) for permutacio in permutacions)\n",
    "print(f\"Sacar 3 bolas y que sean todas de diferentes colores {p_diferents}\")\n"
   ]
  },
  {
   "cell_type": "markdown",
   "metadata": {},
   "source": [
    "## Reto 2\n",
    "\n",
    "Quieres ir de picnic el sábado. Odias la lluvia y quieres planificar tu fin de semana. Para ayudarte a tomar una decisión, recopilas los siguientes datos sobre los días lluviosos:\n",
    "\n",
    "* El 40% de todos los días están nublados.\n",
    "* Aproximadamente el 50% de los días nublados son lluviosos.\n",
    "* Aproximadamente el 20% de los días no nublados son lluviosos.\n",
    "\n",
    "¿Cuál es la probabilidad de que llueva el próximo sábado?"
   ]
  },
  {
   "cell_type": "code",
   "execution_count": 1,
   "metadata": {},
   "outputs": [
    {
     "name": "stdout",
     "output_type": "stream",
     "text": [
      "Probabilidad de que un día sea lluvioso 0.32\n"
     ]
    }
   ],
   "source": [
    "p_nublado = .4\n",
    "p_lluvioso = .4 * .5 + (1 - .4) * .2\n",
    "print(f\"Probabilidad de que un día sea lluvioso {p_lluvioso}\")\n"
   ]
  },
  {
   "cell_type": "markdown",
   "metadata": {},
   "source": [
    "## Reto 3\n",
    "\n",
    "A y B son eventos de una probabilidad tal que \\(P(A) = 0.3\\), \\(P(B) = 0.6\\) y \\(P(A \\cap B) = 0.1\\)\n",
    "\n",
    "¿Cuáles de las siguientes afirmaciones son verdaderas?\n",
    "**SUGERENCIA: dibuja un gran diagrama de Venn a tu lado**\n",
    "* \\(P(\\overline{A}) = 0.7\\)\n",
    "* \\(P(A \\cup B) = 0.6\\)\n",
    "* \\(P(A \\cap \\overline{B}) = 0.2\\)\n",
    "* \\(P(A \\cup \\overline{A}) = 1\\)  \n",
    "* \\(P(A \\cap (B \\cup \\overline{B})) = 0.4\\)\n",
    "* \\(P(\\overline{A} \\cap \\overline{B}) = 0.3\\)\n",
    "* \\(P(\\overline{A \\cap B}) = 0.9\\)"
   ]
  },
  {
   "cell_type": "markdown",
   "metadata": {},
   "source": [
    "### Notación\n",
    "\n",
    "* P(A \\cap B)       probabilidad de A intersección B\n",
    "* P(\\overline{A})   probabilidad de no A\n",
    "* P(A \\cup B)       probabilidad de A unión B\n",
    "\n",
    "### Respuestas\n",
    "\n",
    "* P(\\overline{A}) -> 1 - P(A) -> 1 - 0.3 -> 0.7    **Verdadero**\n",
    "* (P(A \\cup B) = 0.6) -> P(A) + P(B) -> 0.3 + 0.6 -> 0.9   **Falso**\n",
    "* (P(A \\cap \\overline{B}) = 0.2) -> 0.3 * (1 - 0.6) -> 0.3 * 0.4 -> 0.12    **Falso**\n",
    "* (P(A \\cup \\overline{A}) = 1) -> P(A) + 1 - P(A) -> 1    **Verdadero**\n",
    "* (P(A \\cap (B \\cup \\overline{B})) = 0.4)  -> P(A) * (P(B) + 1 - P(B)) -> P(A) -> 0.3    **Falso**\n",
    "* (P(\\overline{A} \\cap \\overline{B}) = 0.3) -> (1 - P(A)) * (1 - P(B)) -> 0.7 * 0.4 -> 0.28     **Falso**\n",
    "* (P(\\overline{A \\cap B}) = 0.9) -> 1 - P(A) * P(B) -> 1 - 0.18 -> 0.82  **Falso**"
   ]
  },
  {
   "cell_type": "markdown",
   "metadata": {},
   "source": [
    "## Reto 4\n",
    "\n",
    "* Si alguien viaja a China, la probabilidad de contraer Covid es del 1%\n",
    "* Si alguien viaja a Italia, la probabilidad de contraer Covid es del 20%\n",
    "\n",
    "Lanzo un dado con números 1, 2, 3, 4, 5, 6:\n",
    "* Si sale 1: Vuelo a Italia\n",
    "* Si no sale 1: Vuelo a China\n",
    "\n",
    "Durante mi viaje, contraje Covid. ¿Cuál es la probabilidad de que haya volado a China?"
   ]
  },
  {
   "cell_type": "markdown",
   "metadata": {},
   "source": [
    "### Probabilidad de contraer covid\n",
    "\n",
    "P(1) * P(Italia) + P(\\overline{1}) * P(China)\n",
    "\n",
    "P(covid) = 1/6 * 0.2 + 5/6 * 0.01 -> **0.041666666666666664**\n",
    "\n",
    "### Probabilidad de haber viajado a China habiendo contraido Covid\n",
    "\n",
    "P(covid) - P(1 \\cap Itàlia) -> 0.041666666666666664 * 1/6 * 0.2 -> **0.001388888888888889**\n",
    "\n"
   ]
  },
  {
   "cell_type": "markdown",
   "metadata": {},
   "source": [
    "## BONUS\n",
    "\n",
    "Lanzas 2 dados. ¿Cuál es la probabilidad de que la suma de los números sea 7? ¿Y 8? ¿Y 9? Luego simula 10000 veces y dibuja un gráfico de conteo.\n",
    "\n",
    "tu explicación aquí"
   ]
  },
  {
   "cell_type": "code",
   "execution_count": null,
   "metadata": {},
   "outputs": [],
   "source": [
    "# YOUR CODE HERE"
   ]
  }
 ],
 "metadata": {
  "kernelspec": {
   "display_name": "Python 3 (ipykernel)",
   "language": "python",
   "name": "python3"
  },
  "language_info": {
   "codemirror_mode": {
    "name": "ipython",
    "version": 3
   },
   "file_extension": ".py",
   "mimetype": "text/x-python",
   "name": "python",
   "nbconvert_exporter": "python",
   "pygments_lexer": "ipython3",
   "version": "3.12.5"
  },
  "toc": {
   "base_numbering": 1,
   "nav_menu": {},
   "number_sections": false,
   "sideBar": true,
   "skip_h1_title": false,
   "title_cell": "Table of Contents",
   "title_sidebar": "Contents",
   "toc_cell": false,
   "toc_position": {
    "height": "calc(100% - 180px)",
    "left": "10px",
    "top": "150px",
    "width": "296.475px"
   },
   "toc_section_display": true,
   "toc_window_display": false
  },
  "varInspector": {
   "cols": {
    "lenName": 16,
    "lenType": 16,
    "lenVar": 40
   },
   "kernels_config": {
    "python": {
     "delete_cmd_postfix": "",
     "delete_cmd_prefix": "del ",
     "library": "var_list.py",
     "varRefreshCmd": "print(var_dic_list())"
    },
    "r": {
     "delete_cmd_postfix": ") ",
     "delete_cmd_prefix": "rm(",
     "library": "var_list.r",
     "varRefreshCmd": "cat(var_dic_list()) "
    }
   },
   "types_to_exclude": [
    "module",
    "function",
    "builtin_function_or_method",
    "instance",
    "_Feature"
   ],
   "window_display": false
  }
 },
 "nbformat": 4,
 "nbformat_minor": 4
}
