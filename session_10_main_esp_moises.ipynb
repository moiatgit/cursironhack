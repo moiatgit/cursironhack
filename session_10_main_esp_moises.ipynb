


# Import reduce from functools, numpy and pandas
from functools import reduce
import numpy
import pandas





# Corre este codigo:

location = '../data/58585-0.txt'
with open(location, 'r', encoding="utf8") as f:
    prophet = f.read().split(' ')


len(prophet)





# tu codigo aquí
prophet = prophet[568:]





# tu codigo aquí
print(prophet[:10])






def referencia(x):
    '''
    Entrada: Una cadena
    Salida: La cadena con las referencias eliminadas
    
    Ejemplo:
    Entrada: 'the{7}'
    Salida: 'the'
    '''
    return x.split("{")[0]
    
    # tu código aquí





# tu codigo aquí
prophet_reference = list(map(referencia, prophet))
print(prophet_reference[:10])






def salto_de_linea(x):
    '''
    Entrada: Una cadena
    Salida: Una lista de cadenas divididas en el carácter de salto de línea (\n)
        
    Ejemplo:
    Entrada: 'the\nbeloved'
    Salida: ['the', 'beloved']
    '''
    return x.splitlines()





# tu codigo aquí
prophet_line = list(map(salto_de_linea, prophet_reference))
print(prophet_line[:10])





prophet_flat = [i for sub in prophet_line for i in sub]
prophet_flat[:10]


# tu codigo aquí





def filtro_palabra(x):
    '''
    Entrada: Una cadena
    Salida: Verdadero si la palabra no está en la lista especificada 
    y Falso si la palabra está en la lista.
        
    Ejemplo:
    lista de palabras = ['and', 'the']
    Entrada: 'and'
    Salida: FALSE
    
    Entrada: 'John'
    Salida: TRUE
    '''
    
    lista_palabras = ['and', 'the', 'a', 'an']
    
    return x not in lista_palabras





prophet_filter = list(filter(filtro_palabra, prophet_flat))
prophet_filter[:10]





def word_filter_case(x):
   
    word_list = ['and', 'the', 'a', 'an']
    
    # your code here
    #counting = sum([x.lower().count(i) for i in word_list])
    #return False if counting > 0 else True
    return x.lower() not in word_list

prophet_filter_case = list(filter(word_filter_case, prophet_flat))
prophet_filter_case[:10]





def concatenar_espacio(a, b):
    '''
    Entrada: Dos cadenas
    Salida: Una única cadena separada por un espacio
        
    Ejemplo:
    Entrada: 'John', 'Smith'
    Salida: 'John Smith'
    '''
    return f"{a} {b}"


# tu código aquí





# tu código aquí
prophet_string = reduce(concatenar_espacio, prophet_filter)
prophet_string[:512]
