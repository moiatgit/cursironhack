{
 "cells": [
  {
   "cell_type": "markdown",
   "metadata": {},
   "source": [
    "# Functions"
   ]
  },
  {
   "cell_type": "markdown",
   "metadata": {},
   "source": [
    "En este laboratorio pondremos en práctica algunos de los conceptos que hemos aprendido en los últimos días.\n",
    "\n",
    "`NOTA: En este laboratorio deberías intentar escribir todas las funciones por ti mismo utilizando solo la sintaxis más básica de Python y sin funciones como len, count, sum, max, min, in, etc. Dale una oportunidad. 🧑🏻‍💻👩🏻‍💻`\n",
    "\n",
    "La celda después de cada ejercicio contiene algunas pruebas para verificar si tu función funciona como se espera."
   ]
  },
  {
   "cell_type": "code",
   "execution_count": null,
   "metadata": {},
   "outputs": [],
   "source": [
    "from mod.testing import *\n",
    "import unittest"
   ]
  },
  {
   "cell_type": "markdown",
   "metadata": {},
   "source": [
    "## 1. Escribe una función que devuelva el mayor de dos números"
   ]
  },
  {
   "cell_type": "code",
   "execution_count": 1,
   "metadata": {},
   "outputs": [],
   "source": [
    "def greater(a,b):\n",
    "    \"\"\" Retorna el valor mayor \"\"\"\n",
    "    return a if a > b else b\n",
    "#your code here#tu codigo aquí"
   ]
  },
  {
   "cell_type": "code",
   "execution_count": 3,
   "metadata": {},
   "outputs": [],
   "source": [
    "# Para testear tu función\n",
    "# Entiendo que se pide crear una función que pruebe greater()\n",
    "def test_greater(greater):\n",
    "    \"\"\" comprueba que greater() funciona \"\"\"\n",
    "    assert greater(4, 5) == 5\n",
    "    assert greater(19, 3) == 19\n",
    "    assert greater(3, 3) == 3\n",
    "    \n",
    "test_greater(greater)"
   ]
  },
  {
   "cell_type": "markdown",
   "metadata": {},
   "source": [
    "## 2. Ahora escribe una función que devuelva el elemento más"
   ]
  },
  {
   "cell_type": "code",
   "execution_count": 5,
   "metadata": {},
   "outputs": [],
   "source": [
    "#tu codigo aquí\n",
    "# El elemento más què?\n",
    "# Entiendo que recibe una lista en lugar de un par de enteros\n",
    "def greatest(values: list[int]) -> int|None:\n",
    "    \"\"\" Retorna el valor mayor de la lista. En caso de lista vacia, retorna None\"\"\"\n",
    "    if not values:\n",
    "        return None\n",
    "    major = values[0]\n",
    "    for i in values[1:]:\n",
    "        if i > major:\n",
    "            major = i\n",
    "    return major"
   ]
  },
  {
   "cell_type": "code",
   "execution_count": 8,
   "metadata": {},
   "outputs": [],
   "source": [
    "# Para testear tu función\n",
    "def test_greatest(greatest):\n",
    "    \"\"\" Comprueba que greatest() funciona para diferentes casos \"\"\"\n",
    "    assert greatest(None) == None\n",
    "    assert greatest([1]) == 1\n",
    "    assert greatest([1, 2]) == 2\n",
    "    assert greatest([2, 1]) == 2\n",
    "    assert greatest([2, 3, 2, 3]) == 3\n",
    "    assert greatest([5,2,4,1,7,6,3,2,3]) == 7\n",
    "test_greatest(greatest)"
   ]
  },
  {
   "cell_type": "markdown",
   "metadata": {},
   "source": [
    "## 3. Escribe una función que sume todos los elementos de una lista"
   ]
  },
  {
   "cell_type": "code",
   "execution_count": 9,
   "metadata": {},
   "outputs": [],
   "source": [
    "def sum_all(lst: list[int]) -> int:\n",
    "    \"\"\" suma los elements de la llista \"\"\"\n",
    "    suma = 0\n",
    "    for i in lst:\n",
    "        suma += i\n",
    "    return suma"
   ]
  },
  {
   "cell_type": "code",
   "execution_count": 11,
   "metadata": {
    "scrolled": true
   },
   "outputs": [],
   "source": [
    "# Para testear tu función\n",
    "def test_sum(sum_all):\n",
    "    \"\"\" Comprueba que sum_all funciona para diversos casos \"\"\"\n",
    "    assert sum_all([1]) == 1\n",
    "    assert sum_all([1, 2]) == 3\n",
    "    assert sum_all([2, 1]) == 3\n",
    "    assert sum_all([2, 3, 2, 3]) == 10\n",
    "    assert sum_all([5,2,4,0,7,6,3,2,3]) == 32\n",
    "test_sum(sum_all)"
   ]
  },
  {
   "cell_type": "markdown",
   "metadata": {},
   "source": [
    "## 4. Escribe otra función que multiplique todos los elementos de una lista"
   ]
  },
  {
   "cell_type": "code",
   "execution_count": 13,
   "metadata": {},
   "outputs": [],
   "source": [
    "def mult_all(lst: list[int]) -> int:\n",
    "    \"\"\" Multiplica tots els elements de la llista \"\"\"\n",
    "    result = 1\n",
    "    for i in lst:\n",
    "        result *= i\n",
    "    return result"
   ]
  },
  {
   "cell_type": "code",
   "execution_count": 17,
   "metadata": {
    "scrolled": true
   },
   "outputs": [],
   "source": [
    "# Para testear tu función\n",
    "def test_mult(mult_all):\n",
    "    \"\"\" Comprueba que mult_all funciona para diversos casos \"\"\"\n",
    "    assert mult_all([1]) == 1\n",
    "    assert mult_all([1, 2]) == 2\n",
    "    assert mult_all([2, 1]) == 2\n",
    "    assert mult_all([2, 3, 2, 3]) == 36\n",
    "    assert mult_all([5,2,4,0,7,6,3,2,3]) == 0\n",
    "test_mult(mult_all)"
   ]
  },
  {
   "cell_type": "markdown",
   "metadata": {},
   "source": [
    "## 5. Ahora combina esas dos ideas y escribe una función que reciba una lista y ya sea \"+\" o \"*\", y produzca el resultado acorde"
   ]
  },
  {
   "cell_type": "code",
   "execution_count": 18,
   "metadata": {},
   "outputs": [],
   "source": [
    "def oper_all(arr, oper = \"*\"):\n",
    "    \"\"\" Retorna el valor de aplicar la operación indicada sobre la lista arr.\n",
    "    Lanza una excepción si la operación es desconocida \"\"\"\n",
    "    if oper not in ('+', '*'):\n",
    "        raise ValueError(f\"Operación desconocida {oper}\")\n",
    "    return sum_all(arr) if oper == '+' else mult_all(arr)"
   ]
  },
  {
   "cell_type": "code",
   "execution_count": 20,
   "metadata": {},
   "outputs": [],
   "source": [
    "# Para testear tu función\n",
    "def test_operations(oper_all):\n",
    "    \"\"\" Comprueba que oper_all funciona para diversos casos \"\"\"\n",
    "    assert oper_all([1], '+') == 1\n",
    "    assert oper_all([1, 2], '+') == 3\n",
    "    assert oper_all([2, 1], '+') == 3\n",
    "    assert oper_all([2, 3, 2, 3], '+') == 10\n",
    "    assert oper_all([5,2,4,0,7,6,3,2,3], '+') == 32\n",
    "\n",
    "    assert oper_all([1], '*') == 1\n",
    "    assert oper_all([1, 2], '*') == 2\n",
    "    assert oper_all([2, 1], '*') == 2\n",
    "    assert oper_all([2, 3, 2, 3], '*') == 36\n",
    "    assert oper_all([5,2,4,0,7,6,3,2,3], '*') == 0\n",
    "\n",
    "    try:\n",
    "        oper_all([1, 2, 3], '/')\n",
    "        assert False\n",
    "    except ValueError as err:\n",
    "        pass    # ha generat l'excepció esperada\n",
    "\n",
    "test_operations(oper_all)"
   ]
  },
  {
   "cell_type": "markdown",
   "metadata": {},
   "source": [
    "## 6. Escribe una función que devuelva el factorial de un número."
   ]
  },
  {
   "cell_type": "code",
   "execution_count": 21,
   "metadata": {},
   "outputs": [],
   "source": [
    "def factorial(n):\n",
    "    \"\"\" Retorna el factorial de n \"\"\"\n",
    "    if n <= 0:\n",
    "        raise ValueError(\"Válido para valores >= 1\")\n",
    "    if n <= 2:\n",
    "        return n\n",
    "    return n * factorial(n - 1)\n",
    "#tu codigo aquí"
   ]
  },
  {
   "cell_type": "code",
   "execution_count": 1,
   "metadata": {},
   "outputs": [],
   "source": [
    "# Fórmula factorial\n",
    "# n! = n * (n - 1) *...*1\n",
    "\n",
    "# Este código define una función llamada \"factorial\" que toma una entrada \"n\". La función utiliza un bucle for para iterar a través del rango de números\n",
    "# desde 1 hasta n+1. Para cada número en ese rango, multiplica el valor actual de x por el número en el rango. Al final del bucle,\n",
    "# la función devuelve el valor final de x, que será el factorial del número de entrada \"n\".\n",
    "\n",
    "# El factorial de un entero positivo n es el producto de todos los enteros positivos menores o iguales a n.\n",
    "# Por ejemplo, el factorial de 6 (escrito \"6!\") es 6 * 5 * 4 * 3 * 2 * 1 = 720.\n",
    "\n",
    "# Así que esta función toma una entrada de cualquier entero positivo y devuelve el factorial de ese número."
   ]
  },
  {
   "cell_type": "code",
   "execution_count": 22,
   "metadata": {},
   "outputs": [],
   "source": [
    "# This will test your function \n",
    "\n",
    "#test_factorial(factorial)\n",
    "assert factorial(1) == 1\n",
    "assert factorial(2) == 2\n",
    "assert factorial(3) == 6\n",
    "assert factorial(4) == 24"
   ]
  },
  {
   "cell_type": "markdown",
   "metadata": {},
   "source": [
    "## 7. Escribe una función que tome una lista y devuelva una lista de los valores únicos.\n",
    "\n",
    "`NOTE: No podemos usar set. 🤔`"
   ]
  },
  {
   "cell_type": "code",
   "execution_count": 23,
   "metadata": {},
   "outputs": [],
   "source": [
    "def unique(lst_un: list):\n",
    "    \"\"\" Retorna la lista con valores únicos. Asume no None \"\"\"\n",
    "    result = []\n",
    "    for i in lst_un:\n",
    "        if i not in result:\n",
    "            result.append(i)\n",
    "    return result\n",
    "    "
   ]
  },
  {
   "cell_type": "code",
   "execution_count": 24,
   "metadata": {},
   "outputs": [],
   "source": [
    "# Para testear tu función \n",
    "#test_unique(unique)\n",
    "assert unique([1, 2, 3]) == [1, 2, 3]\n",
    "assert unique([1, 1, 1]) == [1]\n",
    "assert unique([1, 2, 1]) == [1, 2]\n"
   ]
  },
  {
   "cell_type": "markdown",
   "metadata": {},
   "source": [
    "## 8. Escribe una función que devuelva la moda de una lista, es decir: el elemento que aparece más veces.\n",
    "\n",
    "`NOTE: No se debe usar count... 🧐`"
   ]
  },
  {
   "cell_type": "code",
   "execution_count": 29,
   "metadata": {},
   "outputs": [],
   "source": [
    "\n",
    "def mode_counter(arr: list):\n",
    "    \"\"\" retorna la moda (una llista amb els valors més freqüents).\n",
    "    Asume no None i retorna buida si arr és buit \"\"\"\n",
    "    def compute_freq(arr: list) -> dict:\n",
    "    \"\"\" Calcula la freqüència dels valors en arr. \"\"\"\n",
    "    freq = {}\n",
    "    for i in arr:\n",
    "        if i not in freq:\n",
    "            freq[i] = 0\n",
    "        freq[i] += 1\n",
    "    return freq\n",
    "        \n",
    "    def find_greater(freq: dict):\n",
    "        \"\"\" retorna les claus de la freq amb valor més gran.\n",
    "        Retorna la llista buida si no n'hi ha elements \"\"\"\n",
    "        winner_keys = []\n",
    "        winner_val = 0\n",
    "        for key, val in freq.items():\n",
    "            if val > winner_val:\n",
    "                winner_keys = [key]\n",
    "                winner_val = val\n",
    "            elif val == winner_val: # sharing mode\n",
    "                winner_keys.append(key)\n",
    "        return winner_keys\n",
    "\n",
    "    if not arr:\n",
    "        return None\n",
    "    return find_greater(compute_freq(arr))\n",
    "    \n",
    "    "
   ]
  },
  {
   "cell_type": "code",
   "execution_count": 30,
   "metadata": {},
   "outputs": [],
   "source": [
    "# Para testear tu función \n",
    "#test_mode(mode_counter)\n",
    "assert mode_counter([1, 2, 3, 4]) == [1, 2, 3, 4]\n",
    "assert mode_counter([1, 2, 1, 4]) == [1]\n",
    "assert mode_counter([1, 2, 1, 2, 3, 2, 4]) == [2]\n",
    "assert mode_counter([1, 2, 1, 2, 3, 2, 4, 1]) == [1, 2]\n"
   ]
  },
  {
   "cell_type": "markdown",
   "metadata": {},
   "source": [
    "## 9. Escribe una función que calcule la desviación estándar de una lista.\n",
    "`NOTE: no utilices librerías ni ninguna función ya construida. 😉`"
   ]
  },
  {
   "cell_type": "code",
   "execution_count": 35,
   "metadata": {},
   "outputs": [],
   "source": [
    "import math\n",
    "def st_dev(list_sd):\n",
    "    \"\"\" Calcula la desviació estàndard de la llista. Assumeix no None \"\"\"\n",
    "    def mean(values: list[int]) -> int:\n",
    "        \"\"\" retorna la mitja \"\"\"\n",
    "        if not values:\n",
    "            return 0\n",
    "        # entenc que puc fer servir funcions creades abans (altrament faria un C&P), també len() i Math.sqrt()\n",
    "        return sum_all(values) / len(values)\n",
    "    mitja = mean(list_sd)\n",
    "    squares = [ (i - mitja) ** 2 for i in list_sd ]\n",
    "    sum_squares = sum_all(squares)\n",
    "    return math.sqrt(sum_squares / (len(list_sd) - 1))"
   ]
  },
  {
   "cell_type": "code",
   "execution_count": 39,
   "metadata": {},
   "outputs": [],
   "source": [
    "# Para testear tu función\n",
    "#test_stdev(st_dev)\n",
    "data = [1,2,3,4,5,5,5,5,10]\n",
    "assert abs(st_dev(data) - st_dev(data)) < 0.0000001"
   ]
  },
  {
   "cell_type": "markdown",
   "metadata": {},
   "source": [
    "## 10. Escribe una función para verificar si una cadena es un pangrama, es decir: si contiene todas las letras del alfabeto al menos una vez. Ten en cuenta que las cadenas pueden contener caracteres que no son letras."
   ]
  },
  {
   "cell_type": "code",
   "execution_count": 59,
   "metadata": {},
   "outputs": [],
   "source": [
    "def pangram(string: str) -> bool:\n",
    "    \"\"\" Retorna True si string és un pangrama \"\"\"\n",
    "    lletres = unique([ch for ch in string.lower() if ord('a') <= ord(ch) <= ord('z')])\n",
    "    return len(lletres) == ord('z') - ord('a') + 1\n",
    "    "
   ]
  },
  {
   "cell_type": "code",
   "execution_count": 63,
   "metadata": {},
   "outputs": [],
   "source": [
    "# Para testear tu función\n",
    "#test_pangram(pangram)\n",
    "totes = \"\".join(chr(i) for i in range(ord('a'), ord('z')+1))\n",
    "assert pangram(totes)\n",
    "totes_amb_nums = \"\".join(chr(i) for i in range(ord('0'), ord('z')+1))\n",
    "assert pangram(totes_amb_nums)\n",
    "no_totes = \"\".join(chr(i) for i in range(ord('a'), ord('z')+1) if i != ord('j'))\n",
    "assert not pangram(no_totes)\n"
   ]
  },
  {
   "cell_type": "markdown",
   "metadata": {},
   "source": [
    "## 11. Escribe una función que reciba una cadena de palabras separadas por comas y devuelva una cadena de palabras separadas por comas ordenadas alfabéticamente.\n",
    "\n",
    "`NOTA: Puedes usar sorted pero no split y definitivamente no join! 🤪`"
   ]
  },
  {
   "cell_type": "code",
   "execution_count": 74,
   "metadata": {},
   "outputs": [],
   "source": [
    "def sort_alpha(string):\n",
    "    \"\"\" Retorna les paraules separades per coma a string, ordenades \"\"\"\n",
    "    def meu_split(string: str) -> list[str]:\n",
    "        \"\"\" és el meu split \"\"\"\n",
    "        paraules = []\n",
    "        paraula = []\n",
    "        for ch in string:\n",
    "            if ch == ',':\n",
    "                if paraula:\n",
    "                    paraules.append(\"\".join(paraula))\n",
    "                    paraula = []\n",
    "            else:\n",
    "                paraula.append(ch)\n",
    "        if paraula:    # la darrera\n",
    "            paraules.append(\"\".join(paraula))\n",
    "        return paraules\n",
    "\n",
    "    def meu_join(paraules: list[str]) -> str:\n",
    "        \"\"\" és el meu join \"\"\"\n",
    "        if not paraules:\n",
    "            return \"\"\n",
    "            \n",
    "        resultat = paraules[0]\n",
    "        for paraula in paraules[1:]:\n",
    "            resultat += f\",{paraula}\"\n",
    "        return resultat\n",
    "\n",
    "    return meu_join(sorted(meu_split(string)))"
   ]
  },
  {
   "cell_type": "code",
   "execution_count": 75,
   "metadata": {},
   "outputs": [],
   "source": [
    "# Para testear tu función \n",
    "#test_alpha(sort_alpha)\n",
    "assert sort_alpha(\"undostres\") == \"undostres\"\n",
    "assert sort_alpha(\"un,dos,tres\") == \"dos,tres,un\"\n",
    "assert sort_alpha(\"un,dos,quatre,dos,tres\") == \"dos,dos,quatre,tres,un\""
   ]
  },
  {
   "cell_type": "markdown",
   "metadata": {},
   "source": [
    "## 12. Escribe una función para verificar si una contraseña dada es fuerte (al menos 8 caracteres, al menos una minúscula, al menos una mayúscula, al menos un número y al menos un carácter especial). Debería devolver True si es fuerte y False si no lo es."
   ]
  },
  {
   "cell_type": "code",
   "execution_count": 76,
   "metadata": {},
   "outputs": [],
   "source": [
    "def check_pass(password):\n",
    "    \"\"\" Retorna True si el password és fort \"\"\"\n",
    "    def has_lower(password: str) -> bool:\n",
    "        \"\"\" returns True if has at least one lowercase char \"\"\"\n",
    "        for ch in password:\n",
    "            if ch.islower():\n",
    "                return True\n",
    "        return False\n",
    "    def has_upper(password: str) -> bool:\n",
    "        \"\"\" returns True if has at least one uppercase char \"\"\"\n",
    "        for ch in password:\n",
    "            if ch.isupper():\n",
    "                return True\n",
    "        return False\n",
    "    def has_digit(password: str) -> bool:\n",
    "        \"\"\" returns True if has at least one digit \"\"\"\n",
    "        for ch in password:\n",
    "            if ord('0') <= ord(ch) <= ord('9'):   # isdigit\n",
    "                return True\n",
    "        return False\n",
    "    def has_special_char(password: str) -> bool:\n",
    "        \"\"\" returns True if has at least one special char\n",
    "        Special char are non letters a-zA-Z nor digits \"\"\"\n",
    "        for ch in password:\n",
    "            if ord(ch) < ord('0') or ord('9') > ord(ch.upper()) > ord('A') or ord(ch.lower()) > ord('z'):\n",
    "                return True\n",
    "        return False\n",
    "    if len(password) < 8:\n",
    "        return False\n",
    "    if not has_lower(password):\n",
    "        return False\n",
    "    if not has_upper(password):\n",
    "        return False\n",
    "    if not has_digit(password):\n",
    "        return False\n",
    "    if not has_special_char(password):\n",
    "        return False\n",
    "    return True\n",
    "    "
   ]
  },
  {
   "cell_type": "code",
   "execution_count": 77,
   "metadata": {},
   "outputs": [],
   "source": [
    "# Para testear tu función\n",
    "#test_pass(check_pass)\n",
    "assert not check_pass(\"curt1A!\")\n",
    "assert not check_pass(\"SENSEMINUSCULES1!\")\n",
    "assert not check_pass(\"sensemajuscules1!\")\n",
    "assert not check_pass(\"SenseDigits!\")\n",
    "assert not check_pass(\"Sense1CaracterEspecial\")\n",
    "assert check_pass(\"1BonPasswordFinalment!\")"
   ]
  }
 ],
 "metadata": {
  "kernelspec": {
   "display_name": "Python 3 (ipykernel)",
   "language": "python",
   "name": "python3"
  },
  "language_info": {
   "codemirror_mode": {
    "name": "ipython",
    "version": 3
   },
   "file_extension": ".py",
   "mimetype": "text/x-python",
   "name": "python",
   "nbconvert_exporter": "python",
   "pygments_lexer": "ipython3",
   "version": "3.12.5"
  },
  "vscode": {
   "interpreter": {
    "hash": "aee8b7b246df8f9039afb4144a1f6fd8d2ca17a180786b69acc140d282b71a49"
   }
  }
 },
 "nbformat": 4,
 "nbformat_minor": 4
}
